{
 "cells": [
  {
   "cell_type": "code",
   "execution_count": 2,
   "metadata": {},
   "outputs": [],
   "source": [
    "import pandas as pd\n",
    "\n",
    "from googleapiclient.discovery import build"
   ]
  },
  {
   "cell_type": "markdown",
   "metadata": {},
   "source": [
    "### For this page I tried lecture's methods"
   ]
  },
  {
   "cell_type": "code",
   "execution_count": 5,
   "metadata": {},
   "outputs": [],
   "source": [
    "import pandas as pd\n",
    "\n",
    "from googleapiclient.discovery import build\n",
    "\n",
    "\n",
    "#from IPython.display import JSON\n",
    "\n",
    "from config import YOUTUBE_API_KEY\n",
    "from methods import get_channel_stats, get_video_ids\n",
    "\n",
    "api_version = \"v3\"\n",
    "\n",
    "youtube = build(\"youtube\", api_version, developerKey=YOUTUBE_API_KEY)\n",
    "\n",
    "\n"
   ]
  },
  {
   "cell_type": "code",
   "execution_count": 7,
   "metadata": {},
   "outputs": [
    {
     "name": "stdout",
     "output_type": "stream",
     "text": [
      "                      channelName subscribers      views totalVideos  \\\n",
      "0  BUders Boğaziçiliden Özel Ders      187000  158326427        4507   \n",
      "\n",
      "                 playlistId  \n",
      "0  UUlKBd-4xFVodFmK3bZfJAAQ  \n"
     ]
    }
   ],
   "source": [
    "# Channels to analyze\n",
    "channel_ids = [\n",
    "    #Buders channel\n",
    "    \"UClKBd-4xFVodFmK3bZfJAAQ\",\n",
    "    # Can add more channels\n",
    "]\n",
    "channel_stats = get_channel_stats(youtube, channel_ids)\n",
    "print(channel_stats)"
   ]
  },
  {
   "cell_type": "code",
   "execution_count": 11,
   "metadata": {},
   "outputs": [
    {
     "name": "stdout",
     "output_type": "stream",
     "text": [
      "UUlKBd-4xFVodFmK3bZfJAAQ\n"
     ]
    }
   ],
   "source": [
    "playlist_id = channel_stats.loc[channel_stats['channelName']== \"BUders Boğaziçiliden Özel Ders\", \"playlistId\"].iloc[0]\n",
    "print(playlist_id)"
   ]
  },
  {
   "cell_type": "code",
   "execution_count": 12,
   "metadata": {},
   "outputs": [],
   "source": [
    "video_ids = get_video_ids(youtube, playlist_id)"
   ]
  },
  {
   "cell_type": "code",
   "execution_count": 13,
   "metadata": {},
   "outputs": [
    {
     "data": {
      "text/plain": [
       "4507"
      ]
     },
     "execution_count": 13,
     "metadata": {},
     "output_type": "execute_result"
    }
   ],
   "source": [
    "len(video_ids)"
   ]
  },
  {
   "cell_type": "code",
   "execution_count": null,
   "metadata": {},
   "outputs": [],
   "source": []
  }
 ],
 "metadata": {
  "kernelspec": {
   "display_name": "base",
   "language": "python",
   "name": "python3"
  },
  "language_info": {
   "codemirror_mode": {
    "name": "ipython",
    "version": 3
   },
   "file_extension": ".py",
   "mimetype": "text/x-python",
   "name": "python",
   "nbconvert_exporter": "python",
   "pygments_lexer": "ipython3",
   "version": "3.11.4"
  }
 },
 "nbformat": 4,
 "nbformat_minor": 2
}
