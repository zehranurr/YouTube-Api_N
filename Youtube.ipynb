{
 "cells": [
  {
   "cell_type": "markdown",
   "metadata": {},
   "source": [
    "### Work on \"https://www.youtube.com/results?search_query=_sentdex_\""
   ]
  },
  {
   "cell_type": "code",
   "execution_count": 3,
   "metadata": {},
   "outputs": [],
   "source": [
    "import re #module provides regular expression support.\n",
    "import os\n",
    "import pandas as pd\n",
    "from datetime import timedelta\n",
    "\n",
    "from googleapiclient.discovery import build\n",
    "\n",
    "from config import YOUTUBE_API_KEY\n",
    "from methods import get_channel_stats, get_video_ids\n",
    "\n",
    "api_version = \"v3\"\n",
    "\n",
    "youtube = build(\"youtube\", api_version, developerKey=YOUTUBE_API_KEY)\n",
    "\n",
    "\n"
   ]
  },
  {
   "cell_type": "code",
   "execution_count": 4,
   "metadata": {},
   "outputs": [],
   "source": [
    "request = youtube.channels().list(\n",
    "    \n",
    "    part='contentDetails,statistics',\n",
    "    forUsername='schafer5'\n",
    "\n",
    ")\n"
   ]
  },
  {
   "cell_type": "code",
   "execution_count": 5,
   "metadata": {},
   "outputs": [
    {
     "name": "stdout",
     "output_type": "stream",
     "text": [
      "{'kind': 'youtube#channelListResponse', 'etag': 'ovh_c9y2zGTx-B0cXg4noo4yA1U', 'pageInfo': {'totalResults': 1, 'resultsPerPage': 5}, 'items': [{'kind': 'youtube#channel', 'etag': 'pyBl7w-vymJQH-0bs0z2MNwRnks', 'id': 'UCCezIgC97PvUuR4_gbFUs5g', 'contentDetails': {'relatedPlaylists': {'likes': '', 'uploads': 'UUCezIgC97PvUuR4_gbFUs5g'}}, 'statistics': {'viewCount': '91458158', 'subscriberCount': '1240000', 'hiddenSubscriberCount': False, 'videoCount': '232'}}]}\n"
     ]
    }
   ],
   "source": [
    "\n",
    "response = request.execute()\n",
    "print(response)"
   ]
  },
  {
   "cell_type": "code",
   "execution_count": 6,
   "metadata": {},
   "outputs": [
    {
     "name": "stdout",
     "output_type": "stream",
     "text": [
      "{'kind': 'youtube#playlistListResponse', 'etag': 'lNpwpV7t8rza4L5hvAkPDgvOYLc', 'nextPageToken': 'CAUQAA', 'pageInfo': {'totalResults': 21, 'resultsPerPage': 5}, 'items': [{'kind': 'youtube#playlist', 'etag': 'qIdd8wCVgQOMhzTyggaBTFhGnvk', 'id': 'PL-osiE80TeTsWmV9i9c58mdDCSskIFdDS', 'snippet': {'publishedAt': '2020-01-08T16:44:09Z', 'channelId': 'UCCezIgC97PvUuR4_gbFUs5g', 'title': 'Pandas Tutorials', 'description': '', 'thumbnails': {'default': {'url': 'https://i.ytimg.com/vi/ZyhVh-qRZPA/default.jpg', 'width': 120, 'height': 90}, 'medium': {'url': 'https://i.ytimg.com/vi/ZyhVh-qRZPA/mqdefault.jpg', 'width': 320, 'height': 180}, 'high': {'url': 'https://i.ytimg.com/vi/ZyhVh-qRZPA/hqdefault.jpg', 'width': 480, 'height': 360}, 'standard': {'url': 'https://i.ytimg.com/vi/ZyhVh-qRZPA/sddefault.jpg', 'width': 640, 'height': 480}, 'maxres': {'url': 'https://i.ytimg.com/vi/ZyhVh-qRZPA/maxresdefault.jpg', 'width': 1280, 'height': 720}}, 'channelTitle': 'Corey Schafer', 'localized': {'title': 'Pandas Tutorials', 'description': ''}}, 'contentDetails': {'itemCount': 11}}, {'kind': 'youtube#playlist', 'etag': 'Zob8gLvnNo6qswxisYTrwVTRMR0', 'id': 'PL-osiE80TeTvipOqomVEeZ1HRrcEvtZB_', 'snippet': {'publishedAt': '2019-06-09T05:10:34Z', 'channelId': 'UCCezIgC97PvUuR4_gbFUs5g', 'title': 'Matplotlib Tutorials', 'description': 'In this Python Programming series, we will be learning how to use the Matplotlib library. Matplotlib allows us to create some great looking plots in order to visualize our data in easy to digest formats. This series covers a wide variety of topics such as: customizing our plots, different plot types, plotting live data in real-time, and more.', 'thumbnails': {'default': {'url': 'https://i.ytimg.com/vi/UO98lJQ3QGI/default.jpg', 'width': 120, 'height': 90}, 'medium': {'url': 'https://i.ytimg.com/vi/UO98lJQ3QGI/mqdefault.jpg', 'width': 320, 'height': 180}, 'high': {'url': 'https://i.ytimg.com/vi/UO98lJQ3QGI/hqdefault.jpg', 'width': 480, 'height': 360}, 'standard': {'url': 'https://i.ytimg.com/vi/UO98lJQ3QGI/sddefault.jpg', 'width': 640, 'height': 480}, 'maxres': {'url': 'https://i.ytimg.com/vi/UO98lJQ3QGI/maxresdefault.jpg', 'width': 1280, 'height': 720}}, 'channelTitle': 'Corey Schafer', 'localized': {'title': 'Matplotlib Tutorials', 'description': 'In this Python Programming series, we will be learning how to use the Matplotlib library. Matplotlib allows us to create some great looking plots in order to visualize our data in easy to digest formats. This series covers a wide variety of topics such as: customizing our plots, different plot types, plotting live data in real-time, and more.'}}, 'contentDetails': {'itemCount': 10}}, {'kind': 'youtube#playlist', 'etag': 'rC_KfGHXudXqRP45ytkwXlGrHF4', 'id': 'PL-osiE80TeTtoQCKZ03TU5fNfx2UY6U4p', 'snippet': {'publishedAt': '2018-08-31T15:12:54Z', 'channelId': 'UCCezIgC97PvUuR4_gbFUs5g', 'title': 'Django Tutorials', 'description': 'Python Django Tutorials. In this series, we will be learning how to build a full-featured Django application for scratch. We will learn how to get started with Django, use templates, create a database, upload pictures, create an authentication system, and much much more.', 'thumbnails': {'default': {'url': 'https://i.ytimg.com/vi/UmljXZIypDc/default.jpg', 'width': 120, 'height': 90}, 'medium': {'url': 'https://i.ytimg.com/vi/UmljXZIypDc/mqdefault.jpg', 'width': 320, 'height': 180}, 'high': {'url': 'https://i.ytimg.com/vi/UmljXZIypDc/hqdefault.jpg', 'width': 480, 'height': 360}, 'standard': {'url': 'https://i.ytimg.com/vi/UmljXZIypDc/sddefault.jpg', 'width': 640, 'height': 480}, 'maxres': {'url': 'https://i.ytimg.com/vi/UmljXZIypDc/maxresdefault.jpg', 'width': 1280, 'height': 720}}, 'channelTitle': 'Corey Schafer', 'localized': {'title': 'Django Tutorials', 'description': 'Python Django Tutorials. In this series, we will be learning how to build a full-featured Django application for scratch. We will learn how to get started with Django, use templates, create a database, upload pictures, create an authentication system, and much much more.'}}, 'contentDetails': {'itemCount': 17}}, {'kind': 'youtube#playlist', 'etag': '_i8f_UrY96dAfQyObatbT0jRgX0', 'id': 'PL-osiE80TeTs4UjLw5MM6OjgkjFeUxCYH', 'snippet': {'publishedAt': '2018-05-04T17:14:53Z', 'channelId': 'UCCezIgC97PvUuR4_gbFUs5g', 'title': 'Flask Tutorials', 'description': 'Python Flask Tutorials. In this series, we will be learning how to build a full-feature Flask application for scratch. We will learn how to get started with Flask, use templates, create a database, upload pictures, create an authentication system, and much much more.', 'thumbnails': {'default': {'url': 'https://i.ytimg.com/vi/MwZwr5Tvyxo/default.jpg', 'width': 120, 'height': 90}, 'medium': {'url': 'https://i.ytimg.com/vi/MwZwr5Tvyxo/mqdefault.jpg', 'width': 320, 'height': 180}, 'high': {'url': 'https://i.ytimg.com/vi/MwZwr5Tvyxo/hqdefault.jpg', 'width': 480, 'height': 360}, 'standard': {'url': 'https://i.ytimg.com/vi/MwZwr5Tvyxo/sddefault.jpg', 'width': 640, 'height': 480}, 'maxres': {'url': 'https://i.ytimg.com/vi/MwZwr5Tvyxo/maxresdefault.jpg', 'width': 1280, 'height': 720}}, 'channelTitle': 'Corey Schafer', 'localized': {'title': 'Flask Tutorials', 'description': 'Python Flask Tutorials. In this series, we will be learning how to build a full-feature Flask application for scratch. We will learn how to get started with Flask, use templates, create a database, upload pictures, create an authentication system, and much much more.'}}, 'contentDetails': {'itemCount': 15}}, {'kind': 'youtube#playlist', 'etag': 'GrKeOKQ4V6BkNT2v1G_Y-WJfpHY', 'id': 'PL-osiE80TeTvviVL0pJGX5mZCo7CAvIuf', 'snippet': {'publishedAt': '2017-09-19T03:37:08Z', 'channelId': 'UCCezIgC97PvUuR4_gbFUs5g', 'title': 'Career Advice', 'description': 'Career Advice for Programmers, Developers, and Software Engineers.', 'thumbnails': {'default': {'url': 'https://i.ytimg.com/vi/TtIJEQ6D9DE/default.jpg', 'width': 120, 'height': 90}, 'medium': {'url': 'https://i.ytimg.com/vi/TtIJEQ6D9DE/mqdefault.jpg', 'width': 320, 'height': 180}, 'high': {'url': 'https://i.ytimg.com/vi/TtIJEQ6D9DE/hqdefault.jpg', 'width': 480, 'height': 360}, 'standard': {'url': 'https://i.ytimg.com/vi/TtIJEQ6D9DE/sddefault.jpg', 'width': 640, 'height': 480}, 'maxres': {'url': 'https://i.ytimg.com/vi/TtIJEQ6D9DE/maxresdefault.jpg', 'width': 1280, 'height': 720}}, 'channelTitle': 'Corey Schafer', 'localized': {'title': 'Career Advice', 'description': 'Career Advice for Programmers, Developers, and Software Engineers.'}}, 'contentDetails': {'itemCount': 6}}]}\n"
     ]
    }
   ],
   "source": [
    "pl_request = youtube.playlists().list(\n",
    "    \n",
    "    part='contentDetails,snippet',\n",
    "    channelId='UCCezIgC97PvUuR4_gbFUs5g'\n",
    "\n",
    ")\n",
    "pl_response = pl_request.execute()\n",
    "print(pl_response)\n"
   ]
  },
  {
   "cell_type": "code",
   "execution_count": null,
   "metadata": {},
   "outputs": [],
   "source": []
  },
  {
   "cell_type": "code",
   "execution_count": 7,
   "metadata": {},
   "outputs": [
    {
     "name": "stdout",
     "output_type": "stream",
     "text": [
      "{'kind': 'youtube#playlistListResponse', 'etag': 'lNpwpV7t8rza4L5hvAkPDgvOYLc', 'nextPageToken': 'CAUQAA', 'pageInfo': {'totalResults': 21, 'resultsPerPage': 5}, 'items': [{'kind': 'youtube#playlist', 'etag': 'qIdd8wCVgQOMhzTyggaBTFhGnvk', 'id': 'PL-osiE80TeTsWmV9i9c58mdDCSskIFdDS', 'snippet': {'publishedAt': '2020-01-08T16:44:09Z', 'channelId': 'UCCezIgC97PvUuR4_gbFUs5g', 'title': 'Pandas Tutorials', 'description': '', 'thumbnails': {'default': {'url': 'https://i.ytimg.com/vi/ZyhVh-qRZPA/default.jpg', 'width': 120, 'height': 90}, 'medium': {'url': 'https://i.ytimg.com/vi/ZyhVh-qRZPA/mqdefault.jpg', 'width': 320, 'height': 180}, 'high': {'url': 'https://i.ytimg.com/vi/ZyhVh-qRZPA/hqdefault.jpg', 'width': 480, 'height': 360}, 'standard': {'url': 'https://i.ytimg.com/vi/ZyhVh-qRZPA/sddefault.jpg', 'width': 640, 'height': 480}, 'maxres': {'url': 'https://i.ytimg.com/vi/ZyhVh-qRZPA/maxresdefault.jpg', 'width': 1280, 'height': 720}}, 'channelTitle': 'Corey Schafer', 'localized': {'title': 'Pandas Tutorials', 'description': ''}}, 'contentDetails': {'itemCount': 11}}, {'kind': 'youtube#playlist', 'etag': 'Zob8gLvnNo6qswxisYTrwVTRMR0', 'id': 'PL-osiE80TeTvipOqomVEeZ1HRrcEvtZB_', 'snippet': {'publishedAt': '2019-06-09T05:10:34Z', 'channelId': 'UCCezIgC97PvUuR4_gbFUs5g', 'title': 'Matplotlib Tutorials', 'description': 'In this Python Programming series, we will be learning how to use the Matplotlib library. Matplotlib allows us to create some great looking plots in order to visualize our data in easy to digest formats. This series covers a wide variety of topics such as: customizing our plots, different plot types, plotting live data in real-time, and more.', 'thumbnails': {'default': {'url': 'https://i.ytimg.com/vi/UO98lJQ3QGI/default.jpg', 'width': 120, 'height': 90}, 'medium': {'url': 'https://i.ytimg.com/vi/UO98lJQ3QGI/mqdefault.jpg', 'width': 320, 'height': 180}, 'high': {'url': 'https://i.ytimg.com/vi/UO98lJQ3QGI/hqdefault.jpg', 'width': 480, 'height': 360}, 'standard': {'url': 'https://i.ytimg.com/vi/UO98lJQ3QGI/sddefault.jpg', 'width': 640, 'height': 480}, 'maxres': {'url': 'https://i.ytimg.com/vi/UO98lJQ3QGI/maxresdefault.jpg', 'width': 1280, 'height': 720}}, 'channelTitle': 'Corey Schafer', 'localized': {'title': 'Matplotlib Tutorials', 'description': 'In this Python Programming series, we will be learning how to use the Matplotlib library. Matplotlib allows us to create some great looking plots in order to visualize our data in easy to digest formats. This series covers a wide variety of topics such as: customizing our plots, different plot types, plotting live data in real-time, and more.'}}, 'contentDetails': {'itemCount': 10}}, {'kind': 'youtube#playlist', 'etag': 'rC_KfGHXudXqRP45ytkwXlGrHF4', 'id': 'PL-osiE80TeTtoQCKZ03TU5fNfx2UY6U4p', 'snippet': {'publishedAt': '2018-08-31T15:12:54Z', 'channelId': 'UCCezIgC97PvUuR4_gbFUs5g', 'title': 'Django Tutorials', 'description': 'Python Django Tutorials. In this series, we will be learning how to build a full-featured Django application for scratch. We will learn how to get started with Django, use templates, create a database, upload pictures, create an authentication system, and much much more.', 'thumbnails': {'default': {'url': 'https://i.ytimg.com/vi/UmljXZIypDc/default.jpg', 'width': 120, 'height': 90}, 'medium': {'url': 'https://i.ytimg.com/vi/UmljXZIypDc/mqdefault.jpg', 'width': 320, 'height': 180}, 'high': {'url': 'https://i.ytimg.com/vi/UmljXZIypDc/hqdefault.jpg', 'width': 480, 'height': 360}, 'standard': {'url': 'https://i.ytimg.com/vi/UmljXZIypDc/sddefault.jpg', 'width': 640, 'height': 480}, 'maxres': {'url': 'https://i.ytimg.com/vi/UmljXZIypDc/maxresdefault.jpg', 'width': 1280, 'height': 720}}, 'channelTitle': 'Corey Schafer', 'localized': {'title': 'Django Tutorials', 'description': 'Python Django Tutorials. In this series, we will be learning how to build a full-featured Django application for scratch. We will learn how to get started with Django, use templates, create a database, upload pictures, create an authentication system, and much much more.'}}, 'contentDetails': {'itemCount': 17}}, {'kind': 'youtube#playlist', 'etag': '_i8f_UrY96dAfQyObatbT0jRgX0', 'id': 'PL-osiE80TeTs4UjLw5MM6OjgkjFeUxCYH', 'snippet': {'publishedAt': '2018-05-04T17:14:53Z', 'channelId': 'UCCezIgC97PvUuR4_gbFUs5g', 'title': 'Flask Tutorials', 'description': 'Python Flask Tutorials. In this series, we will be learning how to build a full-feature Flask application for scratch. We will learn how to get started with Flask, use templates, create a database, upload pictures, create an authentication system, and much much more.', 'thumbnails': {'default': {'url': 'https://i.ytimg.com/vi/MwZwr5Tvyxo/default.jpg', 'width': 120, 'height': 90}, 'medium': {'url': 'https://i.ytimg.com/vi/MwZwr5Tvyxo/mqdefault.jpg', 'width': 320, 'height': 180}, 'high': {'url': 'https://i.ytimg.com/vi/MwZwr5Tvyxo/hqdefault.jpg', 'width': 480, 'height': 360}, 'standard': {'url': 'https://i.ytimg.com/vi/MwZwr5Tvyxo/sddefault.jpg', 'width': 640, 'height': 480}, 'maxres': {'url': 'https://i.ytimg.com/vi/MwZwr5Tvyxo/maxresdefault.jpg', 'width': 1280, 'height': 720}}, 'channelTitle': 'Corey Schafer', 'localized': {'title': 'Flask Tutorials', 'description': 'Python Flask Tutorials. In this series, we will be learning how to build a full-feature Flask application for scratch. We will learn how to get started with Flask, use templates, create a database, upload pictures, create an authentication system, and much much more.'}}, 'contentDetails': {'itemCount': 15}}, {'kind': 'youtube#playlist', 'etag': 'GrKeOKQ4V6BkNT2v1G_Y-WJfpHY', 'id': 'PL-osiE80TeTvviVL0pJGX5mZCo7CAvIuf', 'snippet': {'publishedAt': '2017-09-19T03:37:08Z', 'channelId': 'UCCezIgC97PvUuR4_gbFUs5g', 'title': 'Career Advice', 'description': 'Career Advice for Programmers, Developers, and Software Engineers.', 'thumbnails': {'default': {'url': 'https://i.ytimg.com/vi/TtIJEQ6D9DE/default.jpg', 'width': 120, 'height': 90}, 'medium': {'url': 'https://i.ytimg.com/vi/TtIJEQ6D9DE/mqdefault.jpg', 'width': 320, 'height': 180}, 'high': {'url': 'https://i.ytimg.com/vi/TtIJEQ6D9DE/hqdefault.jpg', 'width': 480, 'height': 360}, 'standard': {'url': 'https://i.ytimg.com/vi/TtIJEQ6D9DE/sddefault.jpg', 'width': 640, 'height': 480}, 'maxres': {'url': 'https://i.ytimg.com/vi/TtIJEQ6D9DE/maxresdefault.jpg', 'width': 1280, 'height': 720}}, 'channelTitle': 'Corey Schafer', 'localized': {'title': 'Career Advice', 'description': 'Career Advice for Programmers, Developers, and Software Engineers.'}}, 'contentDetails': {'itemCount': 6}}]}\n"
     ]
    }
   ],
   "source": [
    "print(pl_response)"
   ]
  },
  {
   "cell_type": "code",
   "execution_count": 8,
   "metadata": {},
   "outputs": [
    {
     "name": "stdout",
     "output_type": "stream",
     "text": [
      "{'kind': 'youtube#playlistItemListResponse', 'etag': '17QUxa3m7CYIKtmZgXs_Yw_T5fw', 'nextPageToken': 'EAAajQFQVDpDQVVpRURFeVJVWkNNMEl4UXpVM1JFVTBSVEVvQVVqZW9zcWV2WW41QWxBQldrUWlRMmxLVVZSRE1YWmpNbXhHVDBSQ1ZWcFdVakprYld4WFZFUkNkMU5yWkZsT1Z6RmhVVEk0TTFFd1JqSlRXRlp0UldkelNUSTBXR3RzWjFsUmMwcExhMFJCSWc', 'items': [{'kind': 'youtube#playlistItem', 'etag': '2SA75GQ6MYriifuD3BRsz8wQ1oc', 'id': 'UEwtb3NpRTgwVGVUdnZpVkwwcEpHWDVtWkNvN0NBdkl1Zi41NkI0NEY2RDEwNTU3Q0M2', 'contentDetails': {'videoId': 'TtIJEQ6D9DE', 'videoPublishedAt': '2017-09-19T16:30:00Z'}}, {'kind': 'youtube#playlistItem', 'etag': 'slGI8XegQ4UhlSQsE4eA6fO191E', 'id': 'UEwtb3NpRTgwVGVUdnZpVkwwcEpHWDVtWkNvN0NBdkl1Zi4wOTA3OTZBNzVEMTUzOTMy', 'contentDetails': {'videoId': 'N4WSqXtd_rk', 'videoPublishedAt': '2016-11-15T17:30:00Z'}}, {'kind': 'youtube#playlistItem', 'etag': '8lYDvvDrQl_0tpX-uDnlfMFvC3g', 'id': 'UEwtb3NpRTgwVGVUdnZpVkwwcEpHWDVtWkNvN0NBdkl1Zi4wMTcyMDhGQUE4NTIzM0Y5', 'contentDetails': {'videoId': 'QGy6M8HZSC4', 'videoPublishedAt': '2015-07-15T17:30:01Z'}}, {'kind': 'youtube#playlistItem', 'etag': 'YsvWkjSY_mS4sGCD5pWNkZj5vWg', 'id': 'UEwtb3NpRTgwVGVUdnZpVkwwcEpHWDVtWkNvN0NBdkl1Zi4yODlGNEE0NkRGMEEzMEQy', 'contentDetails': {'videoId': 'HfABu4aCI3U', 'videoPublishedAt': '2015-04-27T14:30:01Z'}}, {'kind': 'youtube#playlistItem', 'etag': 'gcj__eQxYiUQ31Ejbwwxfb43Dsc', 'id': 'UEwtb3NpRTgwVGVUdnZpVkwwcEpHWDVtWkNvN0NBdkl1Zi41MjE1MkI0OTQ2QzJGNzNG', 'contentDetails': {'videoId': 'DEwgZNC-KyE', 'videoPublishedAt': '2015-10-11T21:00:00Z'}}], 'pageInfo': {'totalResults': 6, 'resultsPerPage': 5}}\n"
     ]
    }
   ],
   "source": [
    "pl_request = youtube.playlistItems().list(\n",
    "    \n",
    "    part='contentDetails',\n",
    "    playlistId='PL-osiE80TeTvviVL0pJGX5mZCo7CAvIuf'\n",
    "\n",
    ")\n",
    "pl_response = pl_request.execute()\n",
    "print(pl_response)\n"
   ]
  },
  {
   "cell_type": "code",
   "execution_count": 9,
   "metadata": {},
   "outputs": [
    {
     "name": "stdout",
     "output_type": "stream",
     "text": [
      "TtIJEQ6D9DE\n",
      "N4WSqXtd_rk\n",
      "QGy6M8HZSC4\n",
      "HfABu4aCI3U\n",
      "DEwgZNC-KyE\n"
     ]
    }
   ],
   "source": [
    "for item in pl_response['items']:\n",
    "    video_id =item['contentDetails']['videoId']\n",
    "    print(video_id)\n"
   ]
  },
  {
   "cell_type": "code",
   "execution_count": 10,
   "metadata": {},
   "outputs": [
    {
     "name": "stdout",
     "output_type": "stream",
     "text": [
      "TtIJEQ6D9DE,N4WSqXtd_rk,QGy6M8HZSC4,HfABu4aCI3U,DEwgZNC-KyE\n"
     ]
    }
   ],
   "source": [
    "video_ids= []\n",
    "for item in pl_response['items']:\n",
    "    video_ids.append(item['contentDetails']['videoId'])\n",
    "\n",
    "\n",
    "print(','.join(video_ids))\n"
   ]
  },
  {
   "cell_type": "code",
   "execution_count": 11,
   "metadata": {},
   "outputs": [],
   "source": [
    "video_request= youtube.videos().list(\n",
    "    part = \"contentDetails\",\n",
    "    id=','.join(video_ids)\n",
    "    )\n",
    "video_response = video_request.execute()"
   ]
  },
  {
   "cell_type": "code",
   "execution_count": 12,
   "metadata": {},
   "outputs": [
    {
     "name": "stdout",
     "output_type": "stream",
     "text": [
      "{'kind': 'youtube#video', 'etag': 'Sd_JF9RuIR6oM54EgAImnQAcqD8', 'id': 'TtIJEQ6D9DE', 'contentDetails': {'duration': 'PT11M4S', 'dimension': '2d', 'definition': 'hd', 'caption': 'false', 'licensedContent': True, 'contentRating': {}, 'projection': 'rectangular'}}\n",
      "{'kind': 'youtube#video', 'etag': 'TSyYGIFiU3T4F4PVIpdYYIZVqGQ', 'id': 'N4WSqXtd_rk', 'contentDetails': {'duration': 'PT16M55S', 'dimension': '2d', 'definition': 'hd', 'caption': 'false', 'licensedContent': True, 'contentRating': {}, 'projection': 'rectangular'}}\n",
      "{'kind': 'youtube#video', 'etag': 'YJ2N8y_a2P1Vmw2fiBoYN6UaaKM', 'id': 'QGy6M8HZSC4', 'contentDetails': {'duration': 'PT23M59S', 'dimension': '2d', 'definition': 'hd', 'caption': 'false', 'licensedContent': True, 'contentRating': {}, 'projection': 'rectangular'}}\n",
      "{'kind': 'youtube#video', 'etag': 'L5R27FmZM7yOIDKW9CeOACs-88M', 'id': 'HfABu4aCI3U', 'contentDetails': {'duration': 'PT13M51S', 'dimension': '2d', 'definition': 'hd', 'caption': 'false', 'licensedContent': True, 'contentRating': {}, 'projection': 'rectangular'}}\n",
      "{'kind': 'youtube#video', 'etag': 'W9Kb3igCcxf_bZrTAUzBo3vb-AU', 'id': 'DEwgZNC-KyE', 'contentDetails': {'duration': 'PT22M55S', 'dimension': '2d', 'definition': 'hd', 'caption': 'false', 'licensedContent': True, 'contentRating': {}, 'projection': 'rectangular'}}\n"
     ]
    }
   ],
   "source": [
    "for item in video_response['items']:\n",
    "    print(item)\n",
    "    "
   ]
  },
  {
   "cell_type": "code",
   "execution_count": 13,
   "metadata": {},
   "outputs": [
    {
     "name": "stdout",
     "output_type": "stream",
     "text": [
      "PT11M4S\n",
      "PT16M55S\n",
      "PT23M59S\n",
      "PT13M51S\n",
      "PT22M55S\n"
     ]
    }
   ],
   "source": [
    "#chech their time\n",
    "for item in video_response['items']:\n",
    "    duration =item['contentDetails']['duration']\n",
    "    \n",
    "    print(duration)\n",
    "    "
   ]
  },
  {
   "cell_type": "code",
   "execution_count": 14,
   "metadata": {},
   "outputs": [
    {
     "name": "stdout",
     "output_type": "stream",
     "text": [
      "None <re.Match object; span=(2, 5), match='11M'> <re.Match object; span=(5, 7), match='4S'>\n",
      "None <re.Match object; span=(2, 5), match='16M'> <re.Match object; span=(5, 8), match='55S'>\n",
      "None <re.Match object; span=(2, 5), match='23M'> <re.Match object; span=(5, 8), match='59S'>\n",
      "None <re.Match object; span=(2, 5), match='13M'> <re.Match object; span=(5, 8), match='51S'>\n",
      "None <re.Match object; span=(2, 5), match='22M'> <re.Match object; span=(5, 8), match='55S'>\n"
     ]
    }
   ],
   "source": [
    "#for understanding better I convert to them as  hours minutes and seconds\n",
    "hours_pattern = re.compile(r'(\\d+)H')\n",
    "minutes_pattern = re.compile(r'(\\d+)M')\n",
    "seconds_pattern = re.compile(r'(\\d+)S')\n",
    "for item in video_response['items']:\n",
    "    duration =item['contentDetails']['duration']\n",
    "    \n",
    "    hours=hours_pattern.search(duration)\n",
    "    minutes=minutes_pattern.search(duration)\n",
    "    seconds=seconds_pattern.search(duration)\n",
    "    \n",
    "    print(hours,minutes,seconds)\n",
    "    \n",
    "\n",
    "\n",
    "\n"
   ]
  },
  {
   "cell_type": "code",
   "execution_count": 15,
   "metadata": {},
   "outputs": [
    {
     "name": "stdout",
     "output_type": "stream",
     "text": [
      "11\n",
      "16\n",
      "23\n",
      "13\n",
      "22\n"
     ]
    }
   ],
   "source": [
    "#after cheching their duration ,using minutes is better so show that \n",
    "hours_pattern = re.compile(r'(\\d+)H')\n",
    "minutes_pattern = re.compile(r'(\\d+)M')\n",
    "seconds_pattern = re.compile(r'(\\d+)S')\n",
    "for item in video_response['items']:\n",
    "    duration =item['contentDetails']['duration']\n",
    "    \n",
    "    hours=hours_pattern.search(duration)\n",
    "    minutes=minutes_pattern.search(duration)\n",
    "    seconds=seconds_pattern.search(duration)\n",
    "    minutes = int(minutes.group(1))\n",
    "    \n",
    "    print(minutes)\n",
    "    "
   ]
  },
  {
   "cell_type": "code",
   "execution_count": 16,
   "metadata": {},
   "outputs": [
    {
     "name": "stdout",
     "output_type": "stream",
     "text": [
      "0 11 4\n",
      "0 16 55\n",
      "0 23 59\n",
      "0 13 51\n",
      "0 22 55\n"
     ]
    }
   ],
   "source": [
    "#show all time clearly\n",
    "hours_pattern = re.compile(r'(\\d+)H')\n",
    "minutes_pattern = re.compile(r'(\\d+)M')\n",
    "seconds_pattern = re.compile(r'(\\d+)S')\n",
    "for item in video_response['items']:\n",
    "    duration =item['contentDetails']['duration']\n",
    "    \n",
    "    hours=hours_pattern.search(duration)\n",
    "    minutes=minutes_pattern.search(duration)\n",
    "    seconds=seconds_pattern.search(duration)\n",
    "    \n",
    "    hours = int(hours.group(1)) if hours else 0\n",
    "    minutes = int(minutes.group(1)) if minutes else 0\n",
    "    seconds= int(seconds.group(1)) if seconds else 0\n",
    "    \n",
    "    print(hours,minutes,seconds)"
   ]
  },
  {
   "cell_type": "code",
   "execution_count": 17,
   "metadata": {},
   "outputs": [
    {
     "name": "stdout",
     "output_type": "stream",
     "text": [
      "1375.0\n"
     ]
    }
   ],
   "source": [
    "#see total seconds\n",
    "video_seconds = timedelta(\n",
    "    hours=hours,\n",
    "    minutes= minutes,\n",
    "    seconds = seconds\n",
    "    \n",
    ").total_seconds()\n",
    "print(video_seconds)"
   ]
  },
  {
   "cell_type": "code",
   "execution_count": 19,
   "metadata": {},
   "outputs": [
    {
     "name": "stdout",
     "output_type": "stream",
     "text": [
      "{'kind': 'youtube#playlistItemListResponse', 'etag': '50XlggdutIr1YYiMoJAB7Q_ijXI', 'items': [{'kind': 'youtube#playlistItem', 'etag': '2SA75GQ6MYriifuD3BRsz8wQ1oc', 'id': 'UEwtb3NpRTgwVGVUdnZpVkwwcEpHWDVtWkNvN0NBdkl1Zi41NkI0NEY2RDEwNTU3Q0M2', 'contentDetails': {'videoId': 'TtIJEQ6D9DE', 'videoPublishedAt': '2017-09-19T16:30:00Z'}}, {'kind': 'youtube#playlistItem', 'etag': 'slGI8XegQ4UhlSQsE4eA6fO191E', 'id': 'UEwtb3NpRTgwVGVUdnZpVkwwcEpHWDVtWkNvN0NBdkl1Zi4wOTA3OTZBNzVEMTUzOTMy', 'contentDetails': {'videoId': 'N4WSqXtd_rk', 'videoPublishedAt': '2016-11-15T17:30:00Z'}}, {'kind': 'youtube#playlistItem', 'etag': '8lYDvvDrQl_0tpX-uDnlfMFvC3g', 'id': 'UEwtb3NpRTgwVGVUdnZpVkwwcEpHWDVtWkNvN0NBdkl1Zi4wMTcyMDhGQUE4NTIzM0Y5', 'contentDetails': {'videoId': 'QGy6M8HZSC4', 'videoPublishedAt': '2015-07-15T17:30:01Z'}}, {'kind': 'youtube#playlistItem', 'etag': 'YsvWkjSY_mS4sGCD5pWNkZj5vWg', 'id': 'UEwtb3NpRTgwVGVUdnZpVkwwcEpHWDVtWkNvN0NBdkl1Zi4yODlGNEE0NkRGMEEzMEQy', 'contentDetails': {'videoId': 'HfABu4aCI3U', 'videoPublishedAt': '2015-04-27T14:30:01Z'}}, {'kind': 'youtube#playlistItem', 'etag': 'gcj__eQxYiUQ31Ejbwwxfb43Dsc', 'id': 'UEwtb3NpRTgwVGVUdnZpVkwwcEpHWDVtWkNvN0NBdkl1Zi41MjE1MkI0OTQ2QzJGNzNG', 'contentDetails': {'videoId': 'DEwgZNC-KyE', 'videoPublishedAt': '2015-10-11T21:00:00Z'}}, {'kind': 'youtube#playlistItem', 'etag': 'iIWhoZ4onV5tBQeneOsQjuSbaAQ', 'id': 'UEwtb3NpRTgwVGVUdnZpVkwwcEpHWDVtWkNvN0NBdkl1Zi4xMkVGQjNCMUM1N0RFNEUx', 'contentDetails': {'videoId': '0Q_8taHAuQQ', 'videoPublishedAt': '2020-03-23T19:47:33Z'}}], 'pageInfo': {'totalResults': 6, 'resultsPerPage': 50}}\n",
      "0 11 4\n",
      "0 16 55\n",
      "0 23 59\n",
      "0 13 51\n",
      "0 22 55\n",
      "1 1 21\n",
      "3681.0\n"
     ]
    }
   ],
   "source": [
    "nextPageToken= None\n",
    "while True:\n",
    "        pl_request = youtube.playlistItems().list(\n",
    "        \n",
    "        part='contentDetails',\n",
    "        playlistId='PL-osiE80TeTvviVL0pJGX5mZCo7CAvIuf',\n",
    "        maxResults=50,\n",
    "        pageToken = nextPageToken\n",
    "\n",
    "    )\n",
    "        pl_response = pl_request.execute()\n",
    "        print(pl_response)\n",
    "        video_ids= []\n",
    "        for item in pl_response['items']:\n",
    "            video_ids.append(item['contentDetails']['videoId'])\n",
    "        video_request= youtube.videos().list(\n",
    "            part = \"contentDetails\",\n",
    "            id=','.join(video_ids)\n",
    "            )\n",
    "        video_response = video_request.execute()\n",
    "        hours_pattern = re.compile(r'(\\d+)H')\n",
    "        minutes_pattern = re.compile(r'(\\d+)M')\n",
    "        seconds_pattern = re.compile(r'(\\d+)S')\n",
    "        for item in video_response['items']:\n",
    "            duration =item['contentDetails']['duration']\n",
    "            \n",
    "            hours=hours_pattern.search(duration)\n",
    "            minutes=minutes_pattern.search(duration)\n",
    "            seconds=seconds_pattern.search(duration)\n",
    "            \n",
    "            hours = int(hours.group(1)) if hours else 0\n",
    "            minutes = int(minutes.group(1)) if minutes else 0\n",
    "            seconds= int(seconds.group(1)) if seconds else 0\n",
    "            \n",
    "            print(hours,minutes,seconds) \n",
    "            video_seconds = timedelta(\n",
    "            hours=hours,\n",
    "            minutes= minutes,\n",
    "            seconds = seconds\n",
    "            \n",
    "        ).total_seconds()\n",
    "        print(name,video_seconds)\n",
    "        nextPageToken = pl_response.get('nextPageToken')\n",
    "        \n",
    "        if not nextPageToken:\n",
    "            break\n",
    "    \n",
    "    \n",
    "    \n",
    "    \n",
    "\n",
    "\n",
    "\n",
    "    "
   ]
  },
  {
   "cell_type": "code",
   "execution_count": null,
   "metadata": {},
   "outputs": [
    {
     "ename": "NameError",
     "evalue": "name 'video_response' is not defined",
     "output_type": "error",
     "traceback": [
      "\u001b[1;31m---------------------------------------------------------------------------\u001b[0m",
      "\u001b[1;31mNameError\u001b[0m                                 Traceback (most recent call last)",
      "Cell \u001b[1;32mIn[1], line 18\u001b[0m\n\u001b[0;32m     13\u001b[0m csv_writer\u001b[38;5;241m.\u001b[39mwriterow([\u001b[38;5;124m'\u001b[39m\u001b[38;5;124mVideo ID\u001b[39m\u001b[38;5;124m'\u001b[39m, \u001b[38;5;124m'\u001b[39m\u001b[38;5;124mDuration (seconds)\u001b[39m\u001b[38;5;124m'\u001b[39m])\n\u001b[0;32m     15\u001b[0m \u001b[38;5;28;01mwhile\u001b[39;00m \u001b[38;5;28;01mTrue\u001b[39;00m:\n\u001b[0;32m     16\u001b[0m     \u001b[38;5;66;03m# ... (your existing code)\u001b[39;00m\n\u001b[1;32m---> 18\u001b[0m     \u001b[38;5;28;01mfor\u001b[39;00m item \u001b[38;5;129;01min\u001b[39;00m \u001b[43mvideo_response\u001b[49m[\u001b[38;5;124m'\u001b[39m\u001b[38;5;124mitems\u001b[39m\u001b[38;5;124m'\u001b[39m]:\n\u001b[0;32m     19\u001b[0m         duration \u001b[38;5;241m=\u001b[39m item[\u001b[38;5;124m'\u001b[39m\u001b[38;5;124mcontentDetails\u001b[39m\u001b[38;5;124m'\u001b[39m][\u001b[38;5;124m'\u001b[39m\u001b[38;5;124mduration\u001b[39m\u001b[38;5;124m'\u001b[39m]\n\u001b[0;32m     21\u001b[0m         \u001b[38;5;66;03m# ... (your existing code)\u001b[39;00m\n",
      "\u001b[1;31mNameError\u001b[0m: name 'video_response' is not defined"
     ]
    }
   ],
   "source": [
    "import csv\n",
    "from datetime import timedelta\n",
    "import re\n",
    "\n",
    "# ... (your existing code)\n",
    "\n",
    "# Create or open a CSV file in write mode\n",
    "with open('video_durations.csv', 'w', newline='', encoding='utf-8') as csv_file:\n",
    "    # Create a CSV writer object\n",
    "    csv_writer = csv.writer(csv_file)\n",
    "\n",
    "    # Write the header row to the CSV file\n",
    "    csv_writer.writerow(['Video ID', 'Duration (seconds)'])\n",
    "\n",
    "    while True:\n",
    "        # ... (your existing code)\n",
    "\n",
    "        for item in video_response['items']:\n",
    "            duration = item['contentDetails']['duration']\n",
    "\n",
    "            # ... (your existing code)\n",
    "\n",
    "            video_seconds = timedelta(\n",
    "                hours=hours,\n",
    "                minutes=minutes,\n",
    "                seconds=seconds\n",
    "            ).total_seconds()\n",
    "\n",
    "            # Print the values (optional)\n",
    "            print(video_seconds)\n",
    "\n",
    "            # Write the data to the CSV file\n",
    "            csv_writer.writerow([item['id'], video_seconds])\n",
    "\n",
    "        # Check for the nextPageToken\n",
    "        nextPageToken = pl_response.get('nextPageToken')\n",
    "        if not nextPageToken:\n",
    "            break  # Exit the loop if there are no more pages\n",
    "\n"
   ]
  }
 ],
 "metadata": {
  "kernelspec": {
   "display_name": "work",
   "language": "python",
   "name": "python3"
  },
  "language_info": {
   "codemirror_mode": {
    "name": "ipython",
    "version": 3
   },
   "file_extension": ".py",
   "mimetype": "text/x-python",
   "name": "python",
   "nbconvert_exporter": "python",
   "pygments_lexer": "ipython3",
   "version": "3.11.4"
  }
 },
 "nbformat": 4,
 "nbformat_minor": 2
}
