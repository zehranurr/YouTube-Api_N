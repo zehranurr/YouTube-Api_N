{
 "cells": [
  {
   "cell_type": "markdown",
   "metadata": {},
   "source": [
    "### Work on \"https://www.youtube.com/results?search_query=_sentdex_\""
   ]
  },
  {
   "cell_type": "code",
   "execution_count": 1,
   "metadata": {},
   "outputs": [],
   "source": [
    "#from IPython.display import JSON\n",
    "import pandas as pd\n",
    "\n",
    "from googleapiclient.discovery import build\n",
    "\n",
    "from config import YOUTUBE_API_KEY\n",
    "from methods import get_channel_stats, get_video_ids\n",
    "\n",
    "api_version = \"v3\"\n",
    "\n",
    "youtube = build(\"youtube\", api_version, developerKey=YOUTUBE_API_KEY)\n",
    "\n",
    "\n"
   ]
  },
  {
   "cell_type": "code",
   "execution_count": 28,
   "metadata": {},
   "outputs": [],
   "source": [
    "request = youtube.channels().list(\n",
    "    \n",
    "    part='contentDetails,statistics',\n",
    "    forUsername='schafer5'\n",
    "\n",
    ")\n"
   ]
  },
  {
   "cell_type": "code",
   "execution_count": 29,
   "metadata": {},
   "outputs": [
    {
     "name": "stdout",
     "output_type": "stream",
     "text": [
      "{'kind': 'youtube#channelListResponse', 'etag': 'ovh_c9y2zGTx-B0cXg4noo4yA1U', 'pageInfo': {'totalResults': 1, 'resultsPerPage': 5}, 'items': [{'kind': 'youtube#channel', 'etag': 'pyBl7w-vymJQH-0bs0z2MNwRnks', 'id': 'UCCezIgC97PvUuR4_gbFUs5g', 'contentDetails': {'relatedPlaylists': {'likes': '', 'uploads': 'UUCezIgC97PvUuR4_gbFUs5g'}}, 'statistics': {'viewCount': '91458158', 'subscriberCount': '1240000', 'hiddenSubscriberCount': False, 'videoCount': '232'}}]}\n"
     ]
    }
   ],
   "source": [
    "\n",
    "response = request.execute()\n",
    "print(response)"
   ]
  },
  {
   "cell_type": "code",
   "execution_count": 32,
   "metadata": {},
   "outputs": [
    {
     "name": "stdout",
     "output_type": "stream",
     "text": [
      "{'kind': 'youtube#playlistListResponse', 'etag': 'lNpwpV7t8rza4L5hvAkPDgvOYLc', 'nextPageToken': 'CAUQAA', 'pageInfo': {'totalResults': 21, 'resultsPerPage': 5}, 'items': [{'kind': 'youtube#playlist', 'etag': 'qIdd8wCVgQOMhzTyggaBTFhGnvk', 'id': 'PL-osiE80TeTsWmV9i9c58mdDCSskIFdDS', 'snippet': {'publishedAt': '2020-01-08T16:44:09Z', 'channelId': 'UCCezIgC97PvUuR4_gbFUs5g', 'title': 'Pandas Tutorials', 'description': '', 'thumbnails': {'default': {'url': 'https://i.ytimg.com/vi/ZyhVh-qRZPA/default.jpg', 'width': 120, 'height': 90}, 'medium': {'url': 'https://i.ytimg.com/vi/ZyhVh-qRZPA/mqdefault.jpg', 'width': 320, 'height': 180}, 'high': {'url': 'https://i.ytimg.com/vi/ZyhVh-qRZPA/hqdefault.jpg', 'width': 480, 'height': 360}, 'standard': {'url': 'https://i.ytimg.com/vi/ZyhVh-qRZPA/sddefault.jpg', 'width': 640, 'height': 480}, 'maxres': {'url': 'https://i.ytimg.com/vi/ZyhVh-qRZPA/maxresdefault.jpg', 'width': 1280, 'height': 720}}, 'channelTitle': 'Corey Schafer', 'localized': {'title': 'Pandas Tutorials', 'description': ''}}, 'contentDetails': {'itemCount': 11}}, {'kind': 'youtube#playlist', 'etag': 'Zob8gLvnNo6qswxisYTrwVTRMR0', 'id': 'PL-osiE80TeTvipOqomVEeZ1HRrcEvtZB_', 'snippet': {'publishedAt': '2019-06-09T05:10:34Z', 'channelId': 'UCCezIgC97PvUuR4_gbFUs5g', 'title': 'Matplotlib Tutorials', 'description': 'In this Python Programming series, we will be learning how to use the Matplotlib library. Matplotlib allows us to create some great looking plots in order to visualize our data in easy to digest formats. This series covers a wide variety of topics such as: customizing our plots, different plot types, plotting live data in real-time, and more.', 'thumbnails': {'default': {'url': 'https://i.ytimg.com/vi/UO98lJQ3QGI/default.jpg', 'width': 120, 'height': 90}, 'medium': {'url': 'https://i.ytimg.com/vi/UO98lJQ3QGI/mqdefault.jpg', 'width': 320, 'height': 180}, 'high': {'url': 'https://i.ytimg.com/vi/UO98lJQ3QGI/hqdefault.jpg', 'width': 480, 'height': 360}, 'standard': {'url': 'https://i.ytimg.com/vi/UO98lJQ3QGI/sddefault.jpg', 'width': 640, 'height': 480}, 'maxres': {'url': 'https://i.ytimg.com/vi/UO98lJQ3QGI/maxresdefault.jpg', 'width': 1280, 'height': 720}}, 'channelTitle': 'Corey Schafer', 'localized': {'title': 'Matplotlib Tutorials', 'description': 'In this Python Programming series, we will be learning how to use the Matplotlib library. Matplotlib allows us to create some great looking plots in order to visualize our data in easy to digest formats. This series covers a wide variety of topics such as: customizing our plots, different plot types, plotting live data in real-time, and more.'}}, 'contentDetails': {'itemCount': 10}}, {'kind': 'youtube#playlist', 'etag': 'rC_KfGHXudXqRP45ytkwXlGrHF4', 'id': 'PL-osiE80TeTtoQCKZ03TU5fNfx2UY6U4p', 'snippet': {'publishedAt': '2018-08-31T15:12:54Z', 'channelId': 'UCCezIgC97PvUuR4_gbFUs5g', 'title': 'Django Tutorials', 'description': 'Python Django Tutorials. In this series, we will be learning how to build a full-featured Django application for scratch. We will learn how to get started with Django, use templates, create a database, upload pictures, create an authentication system, and much much more.', 'thumbnails': {'default': {'url': 'https://i.ytimg.com/vi/UmljXZIypDc/default.jpg', 'width': 120, 'height': 90}, 'medium': {'url': 'https://i.ytimg.com/vi/UmljXZIypDc/mqdefault.jpg', 'width': 320, 'height': 180}, 'high': {'url': 'https://i.ytimg.com/vi/UmljXZIypDc/hqdefault.jpg', 'width': 480, 'height': 360}, 'standard': {'url': 'https://i.ytimg.com/vi/UmljXZIypDc/sddefault.jpg', 'width': 640, 'height': 480}, 'maxres': {'url': 'https://i.ytimg.com/vi/UmljXZIypDc/maxresdefault.jpg', 'width': 1280, 'height': 720}}, 'channelTitle': 'Corey Schafer', 'localized': {'title': 'Django Tutorials', 'description': 'Python Django Tutorials. In this series, we will be learning how to build a full-featured Django application for scratch. We will learn how to get started with Django, use templates, create a database, upload pictures, create an authentication system, and much much more.'}}, 'contentDetails': {'itemCount': 17}}, {'kind': 'youtube#playlist', 'etag': '_i8f_UrY96dAfQyObatbT0jRgX0', 'id': 'PL-osiE80TeTs4UjLw5MM6OjgkjFeUxCYH', 'snippet': {'publishedAt': '2018-05-04T17:14:53Z', 'channelId': 'UCCezIgC97PvUuR4_gbFUs5g', 'title': 'Flask Tutorials', 'description': 'Python Flask Tutorials. In this series, we will be learning how to build a full-feature Flask application for scratch. We will learn how to get started with Flask, use templates, create a database, upload pictures, create an authentication system, and much much more.', 'thumbnails': {'default': {'url': 'https://i.ytimg.com/vi/MwZwr5Tvyxo/default.jpg', 'width': 120, 'height': 90}, 'medium': {'url': 'https://i.ytimg.com/vi/MwZwr5Tvyxo/mqdefault.jpg', 'width': 320, 'height': 180}, 'high': {'url': 'https://i.ytimg.com/vi/MwZwr5Tvyxo/hqdefault.jpg', 'width': 480, 'height': 360}, 'standard': {'url': 'https://i.ytimg.com/vi/MwZwr5Tvyxo/sddefault.jpg', 'width': 640, 'height': 480}, 'maxres': {'url': 'https://i.ytimg.com/vi/MwZwr5Tvyxo/maxresdefault.jpg', 'width': 1280, 'height': 720}}, 'channelTitle': 'Corey Schafer', 'localized': {'title': 'Flask Tutorials', 'description': 'Python Flask Tutorials. In this series, we will be learning how to build a full-feature Flask application for scratch. We will learn how to get started with Flask, use templates, create a database, upload pictures, create an authentication system, and much much more.'}}, 'contentDetails': {'itemCount': 15}}, {'kind': 'youtube#playlist', 'etag': 'GrKeOKQ4V6BkNT2v1G_Y-WJfpHY', 'id': 'PL-osiE80TeTvviVL0pJGX5mZCo7CAvIuf', 'snippet': {'publishedAt': '2017-09-19T03:37:08Z', 'channelId': 'UCCezIgC97PvUuR4_gbFUs5g', 'title': 'Career Advice', 'description': 'Career Advice for Programmers, Developers, and Software Engineers.', 'thumbnails': {'default': {'url': 'https://i.ytimg.com/vi/TtIJEQ6D9DE/default.jpg', 'width': 120, 'height': 90}, 'medium': {'url': 'https://i.ytimg.com/vi/TtIJEQ6D9DE/mqdefault.jpg', 'width': 320, 'height': 180}, 'high': {'url': 'https://i.ytimg.com/vi/TtIJEQ6D9DE/hqdefault.jpg', 'width': 480, 'height': 360}, 'standard': {'url': 'https://i.ytimg.com/vi/TtIJEQ6D9DE/sddefault.jpg', 'width': 640, 'height': 480}, 'maxres': {'url': 'https://i.ytimg.com/vi/TtIJEQ6D9DE/maxresdefault.jpg', 'width': 1280, 'height': 720}}, 'channelTitle': 'Corey Schafer', 'localized': {'title': 'Career Advice', 'description': 'Career Advice for Programmers, Developers, and Software Engineers.'}}, 'contentDetails': {'itemCount': 6}}]}\n"
     ]
    }
   ],
   "source": [
    "pl_request = youtube.playlists().list(\n",
    "    \n",
    "    part='contentDetails,snippet',\n",
    "    channelId='UCCezIgC97PvUuR4_gbFUs5g'\n",
    "\n",
    ")\n",
    "pl_response = pl_request.execute()\n",
    "print(pl_response)\n"
   ]
  },
  {
   "cell_type": "code",
   "execution_count": 33,
   "metadata": {},
   "outputs": [
    {
     "name": "stdout",
     "output_type": "stream",
     "text": [
      "{'kind': 'youtube#playlistListResponse', 'etag': 'lNpwpV7t8rza4L5hvAkPDgvOYLc', 'nextPageToken': 'CAUQAA', 'pageInfo': {'totalResults': 21, 'resultsPerPage': 5}, 'items': [{'kind': 'youtube#playlist', 'etag': 'qIdd8wCVgQOMhzTyggaBTFhGnvk', 'id': 'PL-osiE80TeTsWmV9i9c58mdDCSskIFdDS', 'snippet': {'publishedAt': '2020-01-08T16:44:09Z', 'channelId': 'UCCezIgC97PvUuR4_gbFUs5g', 'title': 'Pandas Tutorials', 'description': '', 'thumbnails': {'default': {'url': 'https://i.ytimg.com/vi/ZyhVh-qRZPA/default.jpg', 'width': 120, 'height': 90}, 'medium': {'url': 'https://i.ytimg.com/vi/ZyhVh-qRZPA/mqdefault.jpg', 'width': 320, 'height': 180}, 'high': {'url': 'https://i.ytimg.com/vi/ZyhVh-qRZPA/hqdefault.jpg', 'width': 480, 'height': 360}, 'standard': {'url': 'https://i.ytimg.com/vi/ZyhVh-qRZPA/sddefault.jpg', 'width': 640, 'height': 480}, 'maxres': {'url': 'https://i.ytimg.com/vi/ZyhVh-qRZPA/maxresdefault.jpg', 'width': 1280, 'height': 720}}, 'channelTitle': 'Corey Schafer', 'localized': {'title': 'Pandas Tutorials', 'description': ''}}, 'contentDetails': {'itemCount': 11}}, {'kind': 'youtube#playlist', 'etag': 'Zob8gLvnNo6qswxisYTrwVTRMR0', 'id': 'PL-osiE80TeTvipOqomVEeZ1HRrcEvtZB_', 'snippet': {'publishedAt': '2019-06-09T05:10:34Z', 'channelId': 'UCCezIgC97PvUuR4_gbFUs5g', 'title': 'Matplotlib Tutorials', 'description': 'In this Python Programming series, we will be learning how to use the Matplotlib library. Matplotlib allows us to create some great looking plots in order to visualize our data in easy to digest formats. This series covers a wide variety of topics such as: customizing our plots, different plot types, plotting live data in real-time, and more.', 'thumbnails': {'default': {'url': 'https://i.ytimg.com/vi/UO98lJQ3QGI/default.jpg', 'width': 120, 'height': 90}, 'medium': {'url': 'https://i.ytimg.com/vi/UO98lJQ3QGI/mqdefault.jpg', 'width': 320, 'height': 180}, 'high': {'url': 'https://i.ytimg.com/vi/UO98lJQ3QGI/hqdefault.jpg', 'width': 480, 'height': 360}, 'standard': {'url': 'https://i.ytimg.com/vi/UO98lJQ3QGI/sddefault.jpg', 'width': 640, 'height': 480}, 'maxres': {'url': 'https://i.ytimg.com/vi/UO98lJQ3QGI/maxresdefault.jpg', 'width': 1280, 'height': 720}}, 'channelTitle': 'Corey Schafer', 'localized': {'title': 'Matplotlib Tutorials', 'description': 'In this Python Programming series, we will be learning how to use the Matplotlib library. Matplotlib allows us to create some great looking plots in order to visualize our data in easy to digest formats. This series covers a wide variety of topics such as: customizing our plots, different plot types, plotting live data in real-time, and more.'}}, 'contentDetails': {'itemCount': 10}}, {'kind': 'youtube#playlist', 'etag': 'rC_KfGHXudXqRP45ytkwXlGrHF4', 'id': 'PL-osiE80TeTtoQCKZ03TU5fNfx2UY6U4p', 'snippet': {'publishedAt': '2018-08-31T15:12:54Z', 'channelId': 'UCCezIgC97PvUuR4_gbFUs5g', 'title': 'Django Tutorials', 'description': 'Python Django Tutorials. In this series, we will be learning how to build a full-featured Django application for scratch. We will learn how to get started with Django, use templates, create a database, upload pictures, create an authentication system, and much much more.', 'thumbnails': {'default': {'url': 'https://i.ytimg.com/vi/UmljXZIypDc/default.jpg', 'width': 120, 'height': 90}, 'medium': {'url': 'https://i.ytimg.com/vi/UmljXZIypDc/mqdefault.jpg', 'width': 320, 'height': 180}, 'high': {'url': 'https://i.ytimg.com/vi/UmljXZIypDc/hqdefault.jpg', 'width': 480, 'height': 360}, 'standard': {'url': 'https://i.ytimg.com/vi/UmljXZIypDc/sddefault.jpg', 'width': 640, 'height': 480}, 'maxres': {'url': 'https://i.ytimg.com/vi/UmljXZIypDc/maxresdefault.jpg', 'width': 1280, 'height': 720}}, 'channelTitle': 'Corey Schafer', 'localized': {'title': 'Django Tutorials', 'description': 'Python Django Tutorials. In this series, we will be learning how to build a full-featured Django application for scratch. We will learn how to get started with Django, use templates, create a database, upload pictures, create an authentication system, and much much more.'}}, 'contentDetails': {'itemCount': 17}}, {'kind': 'youtube#playlist', 'etag': '_i8f_UrY96dAfQyObatbT0jRgX0', 'id': 'PL-osiE80TeTs4UjLw5MM6OjgkjFeUxCYH', 'snippet': {'publishedAt': '2018-05-04T17:14:53Z', 'channelId': 'UCCezIgC97PvUuR4_gbFUs5g', 'title': 'Flask Tutorials', 'description': 'Python Flask Tutorials. In this series, we will be learning how to build a full-feature Flask application for scratch. We will learn how to get started with Flask, use templates, create a database, upload pictures, create an authentication system, and much much more.', 'thumbnails': {'default': {'url': 'https://i.ytimg.com/vi/MwZwr5Tvyxo/default.jpg', 'width': 120, 'height': 90}, 'medium': {'url': 'https://i.ytimg.com/vi/MwZwr5Tvyxo/mqdefault.jpg', 'width': 320, 'height': 180}, 'high': {'url': 'https://i.ytimg.com/vi/MwZwr5Tvyxo/hqdefault.jpg', 'width': 480, 'height': 360}, 'standard': {'url': 'https://i.ytimg.com/vi/MwZwr5Tvyxo/sddefault.jpg', 'width': 640, 'height': 480}, 'maxres': {'url': 'https://i.ytimg.com/vi/MwZwr5Tvyxo/maxresdefault.jpg', 'width': 1280, 'height': 720}}, 'channelTitle': 'Corey Schafer', 'localized': {'title': 'Flask Tutorials', 'description': 'Python Flask Tutorials. In this series, we will be learning how to build a full-feature Flask application for scratch. We will learn how to get started with Flask, use templates, create a database, upload pictures, create an authentication system, and much much more.'}}, 'contentDetails': {'itemCount': 15}}, {'kind': 'youtube#playlist', 'etag': 'GrKeOKQ4V6BkNT2v1G_Y-WJfpHY', 'id': 'PL-osiE80TeTvviVL0pJGX5mZCo7CAvIuf', 'snippet': {'publishedAt': '2017-09-19T03:37:08Z', 'channelId': 'UCCezIgC97PvUuR4_gbFUs5g', 'title': 'Career Advice', 'description': 'Career Advice for Programmers, Developers, and Software Engineers.', 'thumbnails': {'default': {'url': 'https://i.ytimg.com/vi/TtIJEQ6D9DE/default.jpg', 'width': 120, 'height': 90}, 'medium': {'url': 'https://i.ytimg.com/vi/TtIJEQ6D9DE/mqdefault.jpg', 'width': 320, 'height': 180}, 'high': {'url': 'https://i.ytimg.com/vi/TtIJEQ6D9DE/hqdefault.jpg', 'width': 480, 'height': 360}, 'standard': {'url': 'https://i.ytimg.com/vi/TtIJEQ6D9DE/sddefault.jpg', 'width': 640, 'height': 480}, 'maxres': {'url': 'https://i.ytimg.com/vi/TtIJEQ6D9DE/maxresdefault.jpg', 'width': 1280, 'height': 720}}, 'channelTitle': 'Corey Schafer', 'localized': {'title': 'Career Advice', 'description': 'Career Advice for Programmers, Developers, and Software Engineers.'}}, 'contentDetails': {'itemCount': 6}}]}\n"
     ]
    }
   ],
   "source": [
    "print(pl_response)"
   ]
  },
  {
   "cell_type": "code",
   "execution_count": 34,
   "metadata": {},
   "outputs": [
    {
     "name": "stdout",
     "output_type": "stream",
     "text": [
      "{'kind': 'youtube#playlistItemListResponse', 'etag': '17QUxa3m7CYIKtmZgXs_Yw_T5fw', 'nextPageToken': 'EAAajQFQVDpDQVVpRURFeVJVWkNNMEl4UXpVM1JFVTBSVEVvQVVqZW9zcWV2WW41QWxBQldrUWlRMmxLVVZSRE1YWmpNbXhHVDBSQ1ZWcFdVakprYld4WFZFUkNkMU5yWkZsT1Z6RmhVVEk0TTFFd1JqSlRXRlp0UldkelNUSTBXR3RzWjFsUmMwcExhMFJCSWc', 'items': [{'kind': 'youtube#playlistItem', 'etag': '2SA75GQ6MYriifuD3BRsz8wQ1oc', 'id': 'UEwtb3NpRTgwVGVUdnZpVkwwcEpHWDVtWkNvN0NBdkl1Zi41NkI0NEY2RDEwNTU3Q0M2', 'contentDetails': {'videoId': 'TtIJEQ6D9DE', 'videoPublishedAt': '2017-09-19T16:30:00Z'}}, {'kind': 'youtube#playlistItem', 'etag': 'slGI8XegQ4UhlSQsE4eA6fO191E', 'id': 'UEwtb3NpRTgwVGVUdnZpVkwwcEpHWDVtWkNvN0NBdkl1Zi4wOTA3OTZBNzVEMTUzOTMy', 'contentDetails': {'videoId': 'N4WSqXtd_rk', 'videoPublishedAt': '2016-11-15T17:30:00Z'}}, {'kind': 'youtube#playlistItem', 'etag': '8lYDvvDrQl_0tpX-uDnlfMFvC3g', 'id': 'UEwtb3NpRTgwVGVUdnZpVkwwcEpHWDVtWkNvN0NBdkl1Zi4wMTcyMDhGQUE4NTIzM0Y5', 'contentDetails': {'videoId': 'QGy6M8HZSC4', 'videoPublishedAt': '2015-07-15T17:30:01Z'}}, {'kind': 'youtube#playlistItem', 'etag': 'YsvWkjSY_mS4sGCD5pWNkZj5vWg', 'id': 'UEwtb3NpRTgwVGVUdnZpVkwwcEpHWDVtWkNvN0NBdkl1Zi4yODlGNEE0NkRGMEEzMEQy', 'contentDetails': {'videoId': 'HfABu4aCI3U', 'videoPublishedAt': '2015-04-27T14:30:01Z'}}, {'kind': 'youtube#playlistItem', 'etag': 'gcj__eQxYiUQ31Ejbwwxfb43Dsc', 'id': 'UEwtb3NpRTgwVGVUdnZpVkwwcEpHWDVtWkNvN0NBdkl1Zi41MjE1MkI0OTQ2QzJGNzNG', 'contentDetails': {'videoId': 'DEwgZNC-KyE', 'videoPublishedAt': '2015-10-11T21:00:00Z'}}], 'pageInfo': {'totalResults': 6, 'resultsPerPage': 5}}\n"
     ]
    }
   ],
   "source": [
    "pl_request = youtube.playlistItems().list(\n",
    "    \n",
    "    part='contentDetails',\n",
    "    playlistId='PL-osiE80TeTvviVL0pJGX5mZCo7CAvIuf'\n",
    "\n",
    ")\n",
    "pl_response = pl_request.execute()\n",
    "print(pl_response)\n"
   ]
  },
  {
   "cell_type": "code",
   "execution_count": 35,
   "metadata": {},
   "outputs": [
    {
     "name": "stdout",
     "output_type": "stream",
     "text": [
      "TtIJEQ6D9DE\n",
      "N4WSqXtd_rk\n",
      "QGy6M8HZSC4\n",
      "HfABu4aCI3U\n",
      "DEwgZNC-KyE\n"
     ]
    }
   ],
   "source": [
    "for item in pl_response['items']:\n",
    "    video_id =item['contentDetails']['videoId']\n",
    "    print(video_id)\n"
   ]
  },
  {
   "cell_type": "code",
   "execution_count": 37,
   "metadata": {},
   "outputs": [
    {
     "name": "stdout",
     "output_type": "stream",
     "text": [
      "TtIJEQ6D9DE,N4WSqXtd_rk,QGy6M8HZSC4,HfABu4aCI3U,DEwgZNC-KyE\n"
     ]
    }
   ],
   "source": [
    "video_ids= []\n",
    "for item in pl_response['items']:\n",
    "    video_ids.append(item['contentDetails']['videoId'])\n",
    "\n",
    "\n",
    "print(','.join(video_ids))\n"
   ]
  }
 ],
 "metadata": {
  "kernelspec": {
   "display_name": "work",
   "language": "python",
   "name": "python3"
  },
  "language_info": {
   "codemirror_mode": {
    "name": "ipython",
    "version": 3
   },
   "file_extension": ".py",
   "mimetype": "text/x-python",
   "name": "python",
   "nbconvert_exporter": "python",
   "pygments_lexer": "ipython3",
   "version": "3.11.4"
  }
 },
 "nbformat": 4,
 "nbformat_minor": 2
}
